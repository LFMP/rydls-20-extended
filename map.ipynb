{
    "cells": [
        {
            "cell_type": "code",
            "execution_count": 6,
            "source": [
                "import os\n",
                "import pandas as pd"
            ],
            "outputs": [],
            "metadata": {}
        },
        {
            "cell_type": "code",
            "execution_count": 7,
            "source": [
                "listOfFiles = list()\n",
                "for (root, dirs, files) in os.walk(os.path.join(os.getcwd(),\"images\")):\n",
                "  for file in files:\n",
                "    listOfFiles.append(os.path.join(os.path.abspath(root), file))"
            ],
            "outputs": [],
            "metadata": {}
        },
        {
            "cell_type": "code",
            "execution_count": 8,
            "source": [
                "listOfClass = list()\n",
                "for path in listOfFiles:\n",
                "  tokens = os.path.split(path)[0].split(\"/\")\n",
                "  if \"Pneumonia\" in tokens:\n",
                "    if tokens.index('Pneumonia') != len(tokens)-1:\n",
                "      aux = tokens[tokens.index('Pneumonia'):len(tokens)]\n",
                "      aux = '-'.join(aux)\n",
                "      listOfClass.append(aux)\n",
                "    else:\n",
                "      listOfClass.append(\"Pneumonia\")\n",
                "  else:\n",
                "    listOfClass.append(tokens[-1])"
            ],
            "outputs": [],
            "metadata": {}
        },
        {
            "cell_type": "code",
            "execution_count": 9,
            "source": [
                "df = pd.DataFrame({\"files\": listOfFiles, \"class\": listOfClass})\n",
                "df.to_csv(\"map.csv\",index=False)"
            ],
            "outputs": [],
            "metadata": {}
        },
        {
            "cell_type": "code",
            "execution_count": 10,
            "source": [
                "df['class'].value_counts()\n"
            ],
            "outputs": [
                {
                    "output_type": "execute_result",
                    "data": {
                        "text/plain": [
                            "Normal                                     20644\n",
                            "Opacity                                    15567\n",
                            "Unknown                                    11895\n",
                            "Pneumonia                                   4331\n",
                            "COVID-19                                    4205\n",
                            "Pneumonia-Viral                             1345\n",
                            "Tuberculosis                                  89\n",
                            "Pneumonia-Fungal-Pneumocystis                 22\n",
                            "Pneumonia-Bacterial-Streptococcus             17\n",
                            "Pneumonia-Viral-SARS                          16\n",
                            "Pneumonia-Viral-MERS-CoV                      10\n",
                            "Pneumonia-Bacterial-Klebsiella                 9\n",
                            "Pneumonia-Bacterial-Legionella                 9\n",
                            "Pneumonia-Lipoid                               7\n",
                            "Pneumonia-Bacterial-Mycoplasma                 5\n",
                            "Pneumonia-Viral-Varicella                      5\n",
                            "Pneumonia-Bacterial-Nocardia                   4\n",
                            "Pneumonia-Bacterial-E.Coli                     4\n",
                            "Pneumonia-Viral-Herpes                         3\n",
                            "Pneumonia-Viral-Influenza                      3\n",
                            "Pneumonia-Bacterial                            2\n",
                            "Pneumonia-Fungal-Aspergillosis                 2\n",
                            "Pneumonia-Bacterial-Chlamydophila              1\n",
                            "Pneumonia-Bacterial-Staphylococcus-MRSA        1\n",
                            "Pneumonia-Aspiration                           1\n",
                            "Pneumonia-Viral-Influenza-H1N1                 1\n",
                            "Name: class, dtype: int64"
                        ]
                    },
                    "metadata": {},
                    "execution_count": 10
                }
            ],
            "metadata": {}
        }
    ],
    "metadata": {
        "orig_nbformat": 4,
        "language_info": {
            "name": "python",
            "version": "3.8.5",
            "mimetype": "text/x-python",
            "codemirror_mode": {
                "name": "ipython",
                "version": 3
            },
            "pygments_lexer": "ipython3",
            "nbconvert_exporter": "python",
            "file_extension": ".py"
        },
        "kernelspec": {
            "name": "python3",
            "display_name": "Python 3.8.5 64-bit"
        },
        "interpreter": {
            "hash": "916dbcbb3f70747c44a77c7bcd40155683ae19c65e1c03b4aa3499c5328201f1"
        }
    },
    "nbformat": 4,
    "nbformat_minor": 2
}